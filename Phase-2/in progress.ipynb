######
import cv2
import numpy as np
import time
from moviepy.editor import VideoFileClip
import matplotlib.pyplot as plt
import matplotlib.image as mpimg
import glob
from PIL import Image
#-----------------------Data Loading--------------------
cars = glob.glob('Data/vehicles/**/*.png')
notcars = glob.glob('Data/non-vehicles/**/*.png')
#print('Number of Vehicle Images: ',len(cars))
#print('Number of Non-Vehicle Images: ',len(notcars))
#--------------------Feature Extraction-----------------
def get_hog_features(img, orient, pix_per_cell, cell_per_block, 
                        vis=False, feature_vec=True):
    if vis == True:
        features, hog_image = hog(img, orientations=orient, 
                                  pixels_per_cell=(pix_per_cell, pix_per_cell),
                                  cells_per_block=(cell_per_block, cell_per_block), 
                                  transform_sqrt=True, 
                                  visualize=vis, feature_vector=feature_vec)
        return features, hog_image
    else:      
        features = hog(img, orientations=orient, 
                       pixels_per_cell=(pix_per_cell, pix_per_cell),
                       cells_per_block=(cell_per_block, cell_per_block), 
                       transform_sqrt=True, 
                       visualize=vis, feature_vector=feature_vec)
        return features
